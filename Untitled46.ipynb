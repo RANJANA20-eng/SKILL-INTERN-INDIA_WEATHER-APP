{
 "cells": [
  {
   "cell_type": "code",
   "execution_count": 1,
   "id": "6cc2119c",
   "metadata": {},
   "outputs": [],
   "source": [
    "import tkinter as tk\n",
    "import requests\n",
    "import json\n",
    "import warnings\n",
    "warnings.filterwarnings('ignore')\n",
    "\n",
    "# Function to retrieve weather data from the OpenWeatherMap API\n",
    "def get_weather():\n",
    "    api_key = \"452feb55bb48ce64b2c3cc0a1f90a257\"  # Replace with your OpenWeatherMap API key\n",
    "    city = city_entry.get()\n",
    "    url = f\"http://api.openweathermap.org/data/2.5/weather?q={city}&appid={api_key}&units=metric\"\n",
    "    response = requests.get(url)\n",
    "    weather_data = response.json()\n",
    "\n",
    "    if weather_data[\"cod\"] == 200:\n",
    "        # Extract relevant weather information\n",
    "        temperature = weather_data[\"main\"][\"temp\"]\n",
    "        description = weather_data[\"weather\"][0][\"description\"]\n",
    "        humidity = weather_data[\"main\"][\"humidity\"]\n",
    "        wind_speed = weather_data[\"wind\"][\"speed\"]\n",
    "\n",
    "        # Update the display label with weather information\n",
    "        result_label.config(\n",
    "            text=f\"Temperature: {temperature}°C\\nDescription: {description}\\nHumidity: {humidity}%\\nWind Speed: {wind_speed} m/s\"\n",
    "        )\n",
    "    else:\n",
    "        result_label.config(text=\"City not found\")\n",
    "\n",
    "# Create the main window\n",
    "app = tk.Tk()\n",
    "app.title(\"Weather App\")\n",
    "\n",
    "# Create and configure input elements\n",
    "city_label = tk.Label(app, text=\"Enter City:\")\n",
    "city_label.pack()\n",
    "city_entry = tk.Entry(app)\n",
    "city_entry.pack()\n",
    "get_weather_button = tk.Button(app, text=\"Get Weather\", command=get_weather)\n",
    "get_weather_button.pack()\n",
    "\n",
    "# Create and configure the result label\n",
    "result_label = tk.Label(app, text=\"\", font=(\"Helvetica\", 14))\n",
    "result_label.pack()\n",
    "\n",
    "# Start the Tkinter main loop\n",
    "app.mainloop()"
   ]
  }
 ],
 "metadata": {
  "kernelspec": {
   "display_name": "Python 3 (ipykernel)",
   "language": "python",
   "name": "python3"
  },
  "language_info": {
   "codemirror_mode": {
    "name": "ipython",
    "version": 3
   },
   "file_extension": ".py",
   "mimetype": "text/x-python",
   "name": "python",
   "nbconvert_exporter": "python",
   "pygments_lexer": "ipython3",
   "version": "3.11.4"
  }
 },
 "nbformat": 4,
 "nbformat_minor": 5
}
